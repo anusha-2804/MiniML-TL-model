{
 "cells": [
  {
   "cell_type": "markdown",
   "id": "981a6af8-2c6d-456b-b8ca-de0ec353abeb",
   "metadata": {},
   "source": [
    "This is to just plot a trace to inspect it while scoring. Often times it helps to see the extracted datastretch in the context of the whole recording to decide if it is noise or an event. "
   ]
  },
  {
   "cell_type": "code",
   "execution_count": 4,
   "id": "02c08e8e-b58b-45ef-946e-cce8960f24ae",
   "metadata": {},
   "outputs": [],
   "source": [
    "import matplotlib.pyplot as plt\n",
    "%matplotlib inline\n",
    "import sys\n",
    "sys.path.append('C:/Users/Anusha/Documents/GitHub/miniML/core/')\n",
    "from miniML import MiniTrace, EventDetection\n",
    "import numpy as np\n",
    "import re, struct, collections\n",
    "import datetime\n",
    "import os, sys\n",
    "import pyqtgraph as pg\n",
    "from FileImport.HekaReader import Bundle\n",
    "path = 'C:/Users/Anusha/Documents/GitHub/miniML/model_training/extract_training_data/example_recordings/'\n",
    "myfile = 'Melina_032224_S3_hippocampus_LAA_NMDA.dat'\n",
    "save_id = 'Melina_rec'\n",
    "filename = path + myfile\n",
    "\n",
    "rectype = '1minLoop'\n",
    "group = 1\n",
    "scaling = 1e12\n",
    "unit = 'pA'\n",
    "exclude_series = []\n",
    "exclude_sweeps = {2:[1,2]}\n",
    "label = '032224_2_3(1st sweep)'\n",
    "\n",
    "\n",
    "trace = MiniTrace.from_heka_file(filename=filename,\n",
    "                            group=group,\n",
    "                            exclude_series = exclude_series,\n",
    "                            exclude_sweeps = exclude_sweeps,\n",
    "                            rectype=rectype,\n",
    "                            scaling=scaling,\n",
    "                            unit=unit)"
   ]
  },
  {
   "cell_type": "code",
   "execution_count": 7,
   "id": "fb1f9327-abdd-4eb0-b72a-7b6c2c9bfd9f",
   "metadata": {},
   "outputs": [],
   "source": [
    "%matplotlib qt\n",
    "plt.plot(np.arange(len(trace.data)) / 10000, trace.data)\n",
    "plt.show()"
   ]
  },
  {
   "cell_type": "code",
   "execution_count": null,
   "id": "2ed33d8e-425e-4a6b-b6af-2a3564cd14ee",
   "metadata": {},
   "outputs": [],
   "source": []
  }
 ],
 "metadata": {
  "kernelspec": {
   "display_name": "Python 3 (ipykernel)",
   "language": "python",
   "name": "python3"
  },
  "language_info": {
   "codemirror_mode": {
    "name": "ipython",
    "version": 3
   },
   "file_extension": ".py",
   "mimetype": "text/x-python",
   "name": "python",
   "nbconvert_exporter": "python",
   "pygments_lexer": "ipython3",
   "version": "3.9.19"
  }
 },
 "nbformat": 4,
 "nbformat_minor": 5
}
