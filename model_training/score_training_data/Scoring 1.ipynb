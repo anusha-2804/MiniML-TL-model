{
 "cells": [
  {
   "cell_type": "markdown",
   "id": "6612c8fe-ef02-4720-92a2-f565d1de1821",
   "metadata": {},
   "source": [
    "This is to score the extracted dataset from one cell. Multiple copies of this file is provided if user wants to score different cells simultaneously and then to edit the scores to maintain the ratio of events/noise. "
   ]
  },
  {
   "cell_type": "code",
   "execution_count": 15,
   "id": "139f7019-6333-4fde-942d-d7b6f42e88a6",
   "metadata": {},
   "outputs": [],
   "source": [
    "import h5py\n",
    "import matplotlib.pyplot as plt\n",
    "from ScoringPanel import ScoringPanel"
   ]
  },
  {
   "cell_type": "code",
   "execution_count": 16,
   "id": "bc1a5dd2-6c23-447e-8422-62c29e67314b",
   "metadata": {},
   "outputs": [
    {
     "name": "stdout",
     "output_type": "stream",
     "text": [
      "(1029, 750) (1029,)\n"
     ]
    }
   ],
   "source": [
    "with h5py.File('C:/Users/Anusha/Documents/GitHub/miniML/model_training/extract_training_data/output/Model 5/030724_6_4', 'r') as f:\n",
    "    x = f['events'][:]\n",
    "    y = f['scores'][:]\n",
    "    cell_label = f['cell_label'][:]\n",
    "    timestamp = f['timestamp'][:]\n",
    "\n",
    "print(x.shape, y.shape)"
   ]
  },
  {
   "cell_type": "code",
   "execution_count": 17,
   "id": "b9e1f97b-2a98-40e7-ace0-2eca9b5ca823",
   "metadata": {},
   "outputs": [],
   "source": [
    "%matplotlib qt\n",
    "# Open plot for scoring\n",
    "fig, ax = plt.subplots(1, 1)\n",
    "tracker = ScoringPanel(fig, ax, x, y,cell_label, timestamp,start_ind=0)\n",
    "fig.canvas.mpl_connect('key_press_event', tracker.onclick)\n",
    "fig.canvas.mpl_connect('scroll_event', tracker.onscroll)\n",
    "plt.show()"
   ]
  },
  {
   "cell_type": "code",
   "execution_count": 39,
   "id": "f08cf09a-adef-435d-bd82-d888b5ef0943",
   "metadata": {},
   "outputs": [
    {
     "name": "stdout",
     "output_type": "stream",
     "text": [
      "Summary of labels:\n",
      "Label 0: 258 events\n",
      "Label 1: 273 events\n",
      "Label 2: 498 events\n"
     ]
    }
   ],
   "source": [
    "import numpy as np\n",
    "\n",
    "# Calculate the summary of labels\n",
    "label_counts = {\n",
    "    0: np.sum(y == 0),\n",
    "    1: np.sum(y == 1),\n",
    "    2: np.sum(y == 2)\n",
    "}\n",
    "\n",
    "print(f\"Summary of labels:\")\n",
    "print(f\"Label 0: {label_counts[0]} events\")\n",
    "print(f\"Label 1: {label_counts[1]} events\")\n",
    "print(f\"Label 2: {label_counts[2]} events\")"
   ]
  },
  {
   "cell_type": "code",
   "execution_count": 47,
   "id": "4a0f4509-52e4-4a14-8e13-680ac6077d00",
   "metadata": {},
   "outputs": [
    {
     "name": "stdout",
     "output_type": "stream",
     "text": [
      "\n",
      "Summary of quality labels (for scores 1):\n",
      "PN: 1 events\n",
      "FP: 0 events\n",
      "NE: 69 events\n",
      "BE: 183 events\n"
     ]
    }
   ],
   "source": [
    "\n",
    "# Calculate the summary of quality labels for score 1\n",
    "quality_label_counts = {\n",
    "    label: np.sum((tracker.event_labels == label) & (tracker.Y == 1))\n",
    "    for label in tracker.quality_labels\n",
    "}\n",
    "\n",
    "print(f\"\\nSummary of quality labels (for scores 1):\")\n",
    "for label, count in quality_label_counts.items():\n",
    "    print(f\"{label}: {count} events\")"
   ]
  },
  {
   "cell_type": "code",
   "execution_count": 41,
   "id": "c8f5a760-48d9-4ae2-83a3-730e52d05804",
   "metadata": {},
   "outputs": [
    {
     "name": "stdout",
     "output_type": "stream",
     "text": [
      "\n",
      "Summary of quality labels (for scores 0):\n",
      "PN: 223 events\n",
      "FP: 35 events\n",
      "NE: 0 events\n",
      "BE: 0 events\n"
     ]
    }
   ],
   "source": [
    "\n",
    "# Calculate the summary of quality labels for score 0 \n",
    "quality_label_counts = {\n",
    "    label: np.sum((tracker.event_labels == label) & (tracker.Y == 0))\n",
    "    for label in tracker.quality_labels\n",
    "}\n",
    "\n",
    "print(f\"\\nSummary of quality labels (for scores 0):\")\n",
    "for label, count in quality_label_counts.items():\n",
    "    print(f\"{label}: {count} events\")"
   ]
  },
  {
   "cell_type": "code",
   "execution_count": 48,
   "id": "776c94e6-823c-4c4d-a2fb-05792dc2006b",
   "metadata": {},
   "outputs": [],
   "source": [
    "save_dataset = 'C:/Users/Anusha/Documents/GitHub/miniML/model_training/score_training_data/Model 5 scored/030724_6_4.h5'\n",
    "if save_dataset:\n",
    "    with h5py.File(save_dataset, 'w') as f:\n",
    "        f.create_dataset(\"events\", data=x)\n",
    "        f.create_dataset(\"scores\", data=y)"
   ]
  },
  {
   "cell_type": "code",
   "execution_count": 14,
   "id": "c040258f-7bf1-4c78-9c7f-8813677c95b7",
   "metadata": {},
   "outputs": [
    {
     "data": {
      "text/plain": [
       "(1065, 1000)"
      ]
     },
     "execution_count": 14,
     "metadata": {},
     "output_type": "execute_result"
    }
   ],
   "source": [
    "x.shape"
   ]
  }
 ],
 "metadata": {
  "kernelspec": {
   "display_name": "Python 3 (ipykernel)",
   "language": "python",
   "name": "python3"
  },
  "language_info": {
   "codemirror_mode": {
    "name": "ipython",
    "version": 3
   },
   "file_extension": ".py",
   "mimetype": "text/x-python",
   "name": "python",
   "nbconvert_exporter": "python",
   "pygments_lexer": "ipython3",
   "version": "3.9.19"
  }
 },
 "nbformat": 4,
 "nbformat_minor": 5
}
