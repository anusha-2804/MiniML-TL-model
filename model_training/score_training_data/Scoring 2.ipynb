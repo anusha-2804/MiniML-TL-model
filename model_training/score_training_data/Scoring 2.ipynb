{
 "cells": [
  {
   "cell_type": "markdown",
   "id": "a89433f7-3d0b-46c9-8869-a93365c1b752",
   "metadata": {},
   "source": [
    "This is to score the extracted dataset from one cell. Multiple copies of this file is provided if user wants to score different cells simultaneously and then to edit the scores to maintain the ratio of events/noise. "
   ]
  },
  {
   "cell_type": "code",
   "execution_count": 1,
   "id": "c7ece19a-485b-450b-87e6-da5404bc842a",
   "metadata": {},
   "outputs": [],
   "source": [
    "import h5py\n",
    "import matplotlib.pyplot as plt\n",
    "from ScoringPanel import ScoringPanel"
   ]
  },
  {
   "cell_type": "code",
   "execution_count": 2,
   "id": "75d9bae7-5266-48c5-b54d-2b4793ad9734",
   "metadata": {},
   "outputs": [
    {
     "name": "stdout",
     "output_type": "stream",
     "text": [
      "(1473, 750) (1473,)\n"
     ]
    }
   ],
   "source": [
    "with h5py.File('C:/Users/Anusha/Documents/GitHub/miniML/model_training/extract_training_data/output/Model 5/031524_7_3', 'r') as f:\n",
    "    x = f['events'][:]\n",
    "    y = f['scores'][:]\n",
    "    cell_label = f['cell_label'][:]\n",
    "    timestamp = f['timestamp'][:]\n",
    "\n",
    "print(x.shape, y.shape)"
   ]
  },
  {
   "cell_type": "code",
   "execution_count": 3,
   "id": "fd5db232-f13d-4786-813e-d72d4409b1f0",
   "metadata": {},
   "outputs": [],
   "source": [
    "%matplotlib qt\n",
    "# Open plot for scoring\n",
    "fig, ax = plt.subplots(1, 1)\n",
    "tracker = ScoringPanel(fig, ax, x, y,cell_label, timestamp,start_ind=0)\n",
    "fig.canvas.mpl_connect('key_press_event', tracker.onclick)\n",
    "fig.canvas.mpl_connect('scroll_event', tracker.onscroll)\n",
    "plt.show()"
   ]
  },
  {
   "cell_type": "code",
   "execution_count": 4,
   "id": "5c98bb91-509c-43d3-8d61-2f991f10aa79",
   "metadata": {},
   "outputs": [
    {
     "name": "stdout",
     "output_type": "stream",
     "text": [
      "Summary of labels:\n",
      "Label 0: 38 events\n",
      "Label 1: 128 events\n",
      "Label 2: 1307 events\n"
     ]
    }
   ],
   "source": [
    "import numpy as np\n",
    "\n",
    "# Calculate the summary of labels for all scores\n",
    "label_counts = {\n",
    "    0: np.sum(y == 0),\n",
    "    1: np.sum(y == 1),\n",
    "    2: np.sum(y == 2)\n",
    "}\n",
    "\n",
    "print(f\"Summary of labels:\")\n",
    "print(f\"Label 0: {label_counts[0]} events\")\n",
    "print(f\"Label 1: {label_counts[1]} events\")\n",
    "print(f\"Label 2: {label_counts[2]} events\")"
   ]
  },
  {
   "cell_type": "code",
   "execution_count": 24,
   "id": "3a5037e4-21a7-435c-b5dd-c66434983b39",
   "metadata": {},
   "outputs": [
    {
     "name": "stdout",
     "output_type": "stream",
     "text": [
      "\n",
      "Summary of quality labels (for scores 0):\n",
      "PN: 70 events\n",
      "FP: 7 events\n",
      "NE: 0 events\n",
      "BE: 0 events\n"
     ]
    }
   ],
   "source": [
    "# Calculate the summary of quality labels for score 0\n",
    "quality_label_counts = {\n",
    "    label: np.sum((tracker.event_labels == label) & (tracker.Y == 0))\n",
    "    for label in tracker.quality_labels\n",
    "}\n",
    "\n",
    "print(f\"\\nSummary of quality labels (for scores 0):\")\n",
    "for label, count in quality_label_counts.items():\n",
    "    print(f\"{label}: {count} events\")"
   ]
  },
  {
   "cell_type": "code",
   "execution_count": 5,
   "id": "85f56bc2-1674-422d-a7e1-a6922f59571b",
   "metadata": {},
   "outputs": [
    {
     "name": "stdout",
     "output_type": "stream",
     "text": [
      "\n",
      "Summary of quality labels (for scores 0 and 1):\n",
      "PN: 110 events\n",
      "FP: 0 events\n",
      "NE: 14 events\n",
      "BE: 4 events\n"
     ]
    }
   ],
   "source": [
    "# Calculate the summary of quality labels for score 1\n",
    "quality_label_counts = {\n",
    "    label: np.sum((tracker.event_labels == label) & (tracker.Y == 1))\n",
    "    for label in tracker.quality_labels\n",
    "}\n",
    "\n",
    "print(f\"\\nSummary of quality labels (for scores 0 and 1):\")\n",
    "for label, count in quality_label_counts.items():\n",
    "    print(f\"{label}: {count} events\")"
   ]
  },
  {
   "cell_type": "code",
   "execution_count": 25,
   "id": "2b5af6e4-73c1-4434-b7be-db851eda9add",
   "metadata": {},
   "outputs": [],
   "source": [
    "save_dataset = 'C:/Users/Anusha/Documents/GitHub/miniML/model_training/Model 2 scored/cell2.h5'\n",
    "if save_dataset:\n",
    "    with h5py.File(save_dataset, 'w') as f:\n",
    "        f.create_dataset(\"events\", data=x)\n",
    "        f.create_dataset(\"scores\", data=y)"
   ]
  },
  {
   "cell_type": "code",
   "execution_count": null,
   "id": "6af80886-8ee7-487f-9e39-6d2743c679a1",
   "metadata": {},
   "outputs": [],
   "source": []
  }
 ],
 "metadata": {
  "kernelspec": {
   "display_name": "Python 3 (ipykernel)",
   "language": "python",
   "name": "python3"
  },
  "language_info": {
   "codemirror_mode": {
    "name": "ipython",
    "version": 3
   },
   "file_extension": ".py",
   "mimetype": "text/x-python",
   "name": "python",
   "nbconvert_exporter": "python",
   "pygments_lexer": "ipython3",
   "version": "3.9.19"
  }
 },
 "nbformat": 4,
 "nbformat_minor": 5
}
