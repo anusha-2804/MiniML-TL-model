{
 "cells": [
  {
   "cell_type": "code",
   "execution_count": 1,
   "id": "a0383d93-5e08-4711-a701-f2ea7462b92d",
   "metadata": {},
   "outputs": [
    {
     "name": "stdout",
     "output_type": "stream",
     "text": [
      "WARNING:tensorflow:From C:\\Users\\Anusha\\miniconda3\\envs\\tf\\lib\\site-packages\\keras\\src\\losses.py:2976: The name tf.losses.sparse_softmax_cross_entropy is deprecated. Please use tf.compat.v1.losses.sparse_softmax_cross_entropy instead.\n",
      "\n"
     ]
    }
   ],
   "source": [
    "import sys\n",
    "sys.path.append('C:/Users/Anusha/Documents/GitHub/miniML/core/')\n",
    "from miniML import MiniTrace, EventDetection\n",
    "from miniML_plot_functions import miniML_plots\n",
    "import numpy as np\n",
    "import re, struct, collections\n",
    "import datetime\n",
    "import os, sys\n",
    "import pyqtgraph as pg\n",
    "from FileImport.HekaReader import Bundle"
   ]
  },
  {
   "cell_type": "code",
   "execution_count": 2,
   "id": "ea2368c9-bf81-46dd-92e3-1ce6c88f3e20",
   "metadata": {},
   "outputs": [],
   "source": [
    "filename = 'C:/Users/Anusha/Documents/GitHub/miniML/model_training/extract_training_data/example_recordings/Melina_032224_S3_hippocampus_LAA_NMDA.dat'\n",
    "rectype = '1minLoop'\n",
    "group = 1\n",
    "scaling = 1e12\n",
    "unit = 'pA'\n",
    "exclude_series = []\n",
    "exclude_sweeps = {2:[1,2]}\n",
    "\n",
    "trace = MiniTrace.from_heka_file(filename=filename,\n",
    "                            group=group,\n",
    "                            exclude_series = exclude_series,\n",
    "                            exclude_sweeps = exclude_sweeps,\n",
    "                            rectype=rectype,\n",
    "                            scaling=scaling,\n",
    "                            unit=unit)\n",
    "#import numpy as np\n",
    "#t1, t2 = 0, 41 \n",
    "#p1, p2 = int(t1/trace.sampling), int(t2/trace.sampling)\n",
    "#stretch_1 = trace.data[p1:p2]\n",
    "\n",
    "#t1, t2 = 48, 60 \n",
    "#p1, p2 = int(t1/trace.sampling), int(t2/trace.sampling)\n",
    "#stretch_2 = trace.data[p1:p2]\n",
    "\n",
    "#t1, t2 = 168, 180 \n",
    "#p1, p2 = int(t1/trace.sampling), int(t2/trace.sampling)\n",
    "#stretch_3 = trace.data[p1:p2]\n",
    "\n",
    "#trace.data = np.concatenate((stretch_1, stretch_2))"
   ]
  },
  {
   "cell_type": "code",
   "execution_count": 3,
   "id": "7d8d61bf-2f84-45b8-a832-68d6372c3005",
   "metadata": {},
   "outputs": [
    {
     "data": {
      "image/png": "[encoded data removed]",
      "text/plain": [
       "<Figure size 640x480 with 1 Axes>"
      ]
     },
     "metadata": {},
     "output_type": "display_data"
    }
   ],
   "source": [
    "trace.plot_trace()"
   ]
  },
  {
   "cell_type": "code",
   "execution_count": 12,
   "id": "9a083ca4-bcbc-48c4-b6f0-1892f8f38a08",
   "metadata": {},
   "outputs": [
    {
     "name": "stdout",
     "output_type": "stream",
     "text": [
      "Model loaded from C:/Users/Anusha/Documents/GitHub/miniML/model/Model 5/lstm_transfer_5.h5\n"
     ]
    }
   ],
   "source": [
    "model = 'C:/Users/Anusha/Documents/GitHub/miniML/model/Model 5/lstm_transfer_5.h5'\n",
    "win_size = 750\n",
    "threshold = 0.46\n",
    "event_direction = 'negative'\n",
    "training_direction = 'negative'\n",
    "\n",
    "detection = EventDetection(data=trace,\n",
    "                           model_path=model,\n",
    "                           window_size=win_size,\n",
    "                           model_threshold=threshold,\n",
    "                           batch_size=512,\n",
    "                           event_direction=event_direction,\n",
    "                           training_direction=training_direction,\n",
    "                           compile_model=True)"
   ]
  },
  {
   "cell_type": "code",
   "execution_count": 13,
   "id": "25ddfd17-0736-46aa-8292-ac1fc7d256ba",
   "metadata": {},
   "outputs": [
    {
     "name": "stdout",
     "output_type": "stream",
     "text": [
      "47/47 [==============================] - 10s 180ms/step\n",
      "\n",
      "Event statistics:\n",
      "-------------------------\n",
      "    Number of events: 207\n",
      "    Average score: 0.902\n",
      "    Event frequency: 3.4473 Hz\n",
      "    Mean amplitude: -4.4379 pA\n",
      "    Median amplitude: -4.5497 pA\n",
      "    Std amplitude: 3.2007 pA\n",
      "    CV amplitude: 0.721\n",
      "    Mean charge: -0.02312 pC\n",
      "    CV charge: 1.435\n",
      "    Mean 10-90 risetime: 2.047 ms\n",
      "    Mean half decay time: 0.937 ms\n",
      "    Tau decay: 9.597 ms\n",
      "-------------------------\n"
     ]
    }
   ],
   "source": [
    "detection.detect_events(eval=True, convolve_win=5, resample_to_600=True)"
   ]
  },
  {
   "cell_type": "code",
   "execution_count": 14,
   "id": "71dfc979-0e05-476f-9d9d-8a3f54fd3e71",
   "metadata": {},
   "outputs": [],
   "source": [
    "%matplotlib qt\n",
    "# # Change \"inline\" to \"qt\" to make the plot interactive (requires installation of the PyQt library)\n",
    "MiniPlots = miniML_plots(data=detection)\n",
    "\n",
    "MiniPlots.plot_prediction(include_data=True, plot_filtered_prediction=True, plot_filtered_trace=True, plot_event_params=False)\n",
    "#MiniPlots.plot_event_overlay()\n",
    "#MiniPlots.plot_event_histogram(plot='amplitude', cumulative=False)\n",
    "#MiniPlots.plot_gradient_search()"
   ]
  },
  {
   "cell_type": "code",
   "execution_count": 15,
   "id": "30c5abf5-7f6b-4cb8-978c-8d3996250fed",
   "metadata": {},
   "outputs": [
    {
     "name": "stdout",
     "output_type": "stream",
     "text": [
      "events saved to C:/Users/Anusha/Documents/GitHub/miniML/model_training/extract_training_data/example_recordings/Volodymyr data/240628S2VS_stim_qx314_2ml.pickle\n",
      "Events saved to C:/Users/Anusha/Documents/GitHub/miniML/model_training/extract_training_data/example_recordings/Volodymyr data/240628S2VS_stim_qx314_2ml.h5\n",
      "events saved to C:/Users/Anusha/Documents/GitHub/miniML/model_training/extract_training_data/example_recordings/Volodymyr data/240628S2VS_stim_qx314_2ml_avgs.csv and C:/Users/Anusha/Documents/GitHub/miniML/model_training/extract_training_data/example_recordings/Volodymyr data/240628S2VS_stim_qx314_2ml_individual.csv\n"
     ]
    }
   ],
   "source": [
    "detection.save_to_pickle(filename='C:/Users/Anusha/Documents/GitHub/miniML/model_training/extract_training_data/example_recordings/.pickle', \n",
    "                         include_prediction=True, \n",
    "                         include_data=False)\n",
    "detection.save_to_h5('C:/Users/Anusha/Documents/GitHub/miniML/model_training/extract_training_data/example_recordings/.h5')\n",
    "detection.save_to_csv(filename='C:/Users/Anusha/Documents/GitHub/miniML/model_training/extract_training_data/example_recordings/.csv')"
   ]
  },
  {
   "cell_type": "code",
   "execution_count": null,
   "id": "a24bd8dd-1d96-4617-beec-0c79509547e6",
   "metadata": {},
   "outputs": [],
   "source": []
  }
 ],
 "metadata": {
  "kernelspec": {
   "display_name": "Python 3 (ipykernel)",
   "language": "python",
   "name": "python3"
  },
  "language_info": {
   "codemirror_mode": {
    "name": "ipython",
    "version": 3
   },
   "file_extension": ".py",
   "mimetype": "text/x-python",
   "name": "python",
   "nbconvert_exporter": "python",
   "pygments_lexer": "ipython3",
   "version": "3.9.19"
  }
 },
 "nbformat": 4,
 "nbformat_minor": 5
}
